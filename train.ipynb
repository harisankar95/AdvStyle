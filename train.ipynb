{
 "cells": [
  {
   "cell_type": "markdown",
   "metadata": {},
   "source": [
    "## Train with AdvStyle for Image Classification"
   ]
  },
  {
   "cell_type": "markdown",
   "metadata": {},
   "source": [
    "### Import necessary libraries"
   ]
  },
  {
   "cell_type": "code",
   "execution_count": null,
   "metadata": {},
   "outputs": [],
   "source": [
    "import gc\n",
    "import os\n",
    "\n",
    "import torch\n",
    "from torch import nn\n",
    "from torch.utils.data import DataLoader\n",
    "from torchvision import datasets, transforms\n",
    "\n",
    "from src.advstyle import train_model\n",
    "from src.model import SimpleImageClassifier\n",
    "from src.utils import plot_key, plot_loss_acc"
   ]
  },
  {
   "cell_type": "code",
   "execution_count": null,
   "metadata": {},
   "outputs": [],
   "source": [
    "import matplotlib\n",
    "%matplotlib inline\n",
    "\n",
    "import seaborn as sns\n",
    "sns.set_style('darkgrid')\n",
    "sns.set_palette('muted')\n",
    "sns.set_context(\"notebook\", font_scale=1.5,\n",
    "                rc={\"lines.linewidth\": 2.5})"
   ]
  },
  {
   "cell_type": "markdown",
   "metadata": {},
   "source": [
    "### Set the main parameters"
   ]
  },
  {
   "cell_type": "code",
   "execution_count": null,
   "metadata": {},
   "outputs": [],
   "source": [
    "# Define the directories for the training and test sets\n",
    "TRAIN_DIR = \"./data/training_set\"\n",
    "TEST_DIR = \"./data/test_set\"\n",
    "SYNTHETIC_TEST_DIR = \"./data/synthetic_test_set\"\n",
    "\n",
    "# Define the image sizes\n",
    "IMAGE_WIDTH = 224\n",
    "IMAGE_HEIGHT = 224\n",
    "IMAGE_SIZE = (IMAGE_WIDTH, IMAGE_HEIGHT)\n",
    "\n",
    "# Dataloader parameters\n",
    "BATCH_SIZE = 16\n",
    "NUM_WORKERS = 4 if os.cpu_count() > 4 else os.cpu_count()\n",
    "\n",
    "# Training parameters\n",
    "NUM_EPOCHS = 100\n",
    "LEARNING_RATE = 1e-4\n",
    "WEIGHT_DECAY = 5e-4\n",
    "MOMENTUM = 0.9"
   ]
  },
  {
   "cell_type": "code",
   "execution_count": null,
   "metadata": {},
   "outputs": [],
   "source": [
    "# Check if GPU is available\n",
    "device = \"cuda\" if torch.cuda.is_available() else \"cpu\"\n",
    "print(f\"Using {device} device.\")"
   ]
  },
  {
   "cell_type": "markdown",
   "metadata": {},
   "source": [
    "### Load the data"
   ]
  },
  {
   "cell_type": "code",
   "execution_count": null,
   "metadata": {},
   "outputs": [],
   "source": [
    "# Define the transforms for the training and test sets\n",
    "# The training set uses the TrivialAugmentWide transformation\n",
    "# and the test set does not\n",
    "train_transform = transforms.Compose(\n",
    "    [\n",
    "        transforms.Resize(IMAGE_SIZE),  # Resize the image to the desired size\n",
    "        transforms.TrivialAugmentWide(),  # Apply the TrivialAugmentWide transformation\n",
    "        transforms.ToTensor(),  # Convert the image to a tensor\n",
    "    ]\n",
    ")\n",
    "\n",
    "test_transform = transforms.Compose(\n",
    "    [\n",
    "        transforms.Resize(IMAGE_SIZE),\n",
    "        transforms.ToTensor(),\n",
    "    ]\n",
    ")\n",
    "\n",
    "# Load the training and test sets\n",
    "train_set = datasets.ImageFolder(\n",
    "    TRAIN_DIR,  # Directory of the training set\n",
    "    transform=train_transform,  # Transform to apply to the images\n",
    ")\n",
    "test_set = datasets.ImageFolder(\n",
    "    TEST_DIR,  # Directory of the test set\n",
    "    transform=test_transform,\n",
    ")\n",
    "synthetic_test_set = datasets.ImageFolder(\n",
    "    SYNTHETIC_TEST_DIR,\n",
    "    transform=test_transform,\n",
    ")\n",
    "\n",
    "train_set, test_set, synthetic_test_set"
   ]
  },
  {
   "cell_type": "code",
   "execution_count": null,
   "metadata": {},
   "outputs": [],
   "source": [
    "# Create the data loaders\n",
    "train_loader = DataLoader(\n",
    "    train_set,  # Training dataset\n",
    "    batch_size=BATCH_SIZE,  # Batch size\n",
    "    shuffle=True,  # Shuffle the data\n",
    "    num_workers=NUM_WORKERS,  # Number of workers for loading the data\n",
    ")\n",
    "test_loader = DataLoader(\n",
    "    test_set,  # Test dataset\n",
    "    batch_size=BATCH_SIZE,\n",
    "    shuffle=False,  # Do not shuffle the data\n",
    "    num_workers=NUM_WORKERS,\n",
    ")\n",
    "synthetic_test_loader = DataLoader(\n",
    "    synthetic_test_set,\n",
    "    batch_size=BATCH_SIZE,\n",
    "    shuffle=False,  # Do not shuffle the data\n",
    "    num_workers=NUM_WORKERS,\n",
    ")"
   ]
  },
  {
   "cell_type": "markdown",
   "metadata": {},
   "source": [
    "### Train the model without AdvStyle"
   ]
  },
  {
   "cell_type": "code",
   "execution_count": null,
   "metadata": {},
   "outputs": [],
   "source": [
    "# Create the model and optimizer (SGD with momentum and weight decay)\n",
    "model = SimpleImageClassifier(num_classes=2).to(device)\n",
    "loss_fn = nn.CrossEntropyLoss()  # Use cross-entropy loss\n",
    "optimizer = torch.optim.SGD(model.parameters(), lr=LEARNING_RATE, weight_decay=WEIGHT_DECAY, momentum=MOMENTUM)\n",
    "\n",
    "# Train the model without adversarial style training\n",
    "results = train_model(\n",
    "    model,\n",
    "    train_loader,\n",
    "    test_loader,\n",
    "    loss_fn,\n",
    "    optimizer,\n",
    "    device,\n",
    "    NUM_EPOCHS,\n",
    "    use_adv_style=False,\n",
    "    synthetic_test_loader=synthetic_test_loader,\n",
    ")\n",
    "# Plot the training and test loss and accuracy\n",
    "fig = plot_loss_acc(results)"
   ]
  },
  {
   "cell_type": "markdown",
   "metadata": {},
   "source": [
    "### Train the model with AdvStyle with adv_lr = 1.0"
   ]
  },
  {
   "cell_type": "code",
   "execution_count": null,
   "metadata": {},
   "outputs": [],
   "source": [
    "# Delete the model and optimizer\n",
    "del model, optimizer\n",
    "gc.collect()\n",
    "torch.cuda.empty_cache()\n",
    "\n",
    "# Create a new model and optimizer\n",
    "model = SimpleImageClassifier(num_classes=2).to(device)\n",
    "optimizer = torch.optim.SGD(model.parameters(), lr=LEARNING_RATE, weight_decay=WEIGHT_DECAY, momentum=MOMENTUM)\n",
    "\n",
    "# Train the model with adversarial style training\n",
    "advstyle_results = train_model(\n",
    "    model,\n",
    "    train_loader,\n",
    "    test_loader,\n",
    "    loss_fn,\n",
    "    optimizer,\n",
    "    device,\n",
    "    NUM_EPOCHS,\n",
    "    use_adv_style=True,\n",
    "    adv_lr=1.0,\n",
    "    synthetic_test_loader=synthetic_test_loader,\n",
    ")\n",
    "# Plot the training and test loss and accuracy\n",
    "fig = plot_loss_acc(advstyle_results)"
   ]
  },
  {
   "cell_type": "markdown",
   "metadata": {},
   "source": [
    "### Compare the accuracy of the two models on the synthetic test set"
   ]
  },
  {
   "cell_type": "code",
   "execution_count": null,
   "metadata": {},
   "outputs": [],
   "source": [
    "# Plot the accuracy of the synthetic test set\n",
    "fig = plot_key([results, advstyle_results], \"synthetic_test_acc\", \"Synthetic Test Accuracy\")"
   ]
  }
 ],
 "metadata": {
  "language_info": {
   "name": "python"
  }
 },
 "nbformat": 4,
 "nbformat_minor": 2
}
